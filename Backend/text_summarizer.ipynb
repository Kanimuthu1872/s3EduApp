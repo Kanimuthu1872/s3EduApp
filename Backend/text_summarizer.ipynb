{
  "nbformat": 4,
  "nbformat_minor": 0,
  "metadata": {
    "colab": {
      "provenance": []
    },
    "kernelspec": {
      "name": "python3",
      "display_name": "Python 3"
    },
    "language_info": {
      "name": "python"
    }
  },
  "cells": [
    {
      "cell_type": "code",
      "execution_count": null,
      "metadata": {
        "id": "l_IXC_PGhdXL",
        "colab": {
          "base_uri": "https://localhost:8080/"
        },
        "outputId": "0a3a250a-c81b-4627-ec79-21397181b67c"
      },
      "outputs": [
        {
          "output_type": "stream",
          "name": "stderr",
          "text": [
            "/usr/local/lib/python3.9/dist-packages/torch/cuda/__init__.py:497: UserWarning: Can't initialize NVML\n",
            "  warnings.warn(\"Can't initialize NVML\")\n"
          ]
        }
      ],
      "source": [
        "import spacy\n",
        "from spacy.lang.en.stop_words import STOP_WORDS\n",
        "from string import punctuation\n"
      ]
    },
    {
      "cell_type": "code",
      "source": [
        "stopwords = list(STOP_WORDS)"
      ],
      "metadata": {
        "id": "h8hWDypChihA"
      },
      "execution_count": null,
      "outputs": []
    },
    {
      "cell_type": "code",
      "source": [
        "nlp=spacy.load('en_core_web_sm')\n",
        "text=\"\"\"Its trunk was bent, and it had twisted branches. The other trees laughed and made fun of this tree by calling it hunchback. This made the tree very sad, and whenever it looked at the other trees, it sighed, 'I wish I were like the other beautiful trees. God has been so cruel to me!.\"\"\"\n",
        "doc=nlp(text)\n",
        "tokens=[token.text for token in doc]\n",
        "punctuation=punctuation+'\\n'\n",
        "word_frequencies={}\n",
        "for word in doc:\n",
        "    if word.text.lower()not in stopwords:\n",
        "        if  word.text.lower()not in punctuation:\n",
        "          if word.text not in word_frequencies.keys():\n",
        "              word_frequencies[word.text]=1\n",
        "          else:\n",
        "              word_frequencies[word.text]+=1\n",
        "              max_frequency=max(word_frequencies.values())\n",
        "for word in word_frequencies.keys():\n",
        "  word_frequencies[word]=word_frequencies[word]/max_frequency\n",
        "  sentence_tokens=[sent for sent in doc.sents]\n",
        "sentence_scores={}\n",
        "for sent in sentence_tokens:\n",
        "  for word in sent:\n",
        "    if word.text.lower() in word_frequencies.keys():\n",
        "      if sent not in sentence_scores.keys():\n",
        "        sentence_scores[sent]=word_frequencies[word.text.lower()]\n",
        "      else:\n",
        "           sentence_scores[sent]+=word_frequencies[word.text.lower()]\n",
        "from heapq import nlargest\n",
        "select_length=int(len(sentence_tokens)*0.3)\n",
        "summary=nlargest(select_length,sentence_scores,key=sentence_scores.get)\n",
        "final_summary=[word.text for word in summary]\n",
        "summary=' '.join(final_summary)\n",
        "print(text,\"\\n\")\n",
        "print(summary)\n",
        "\n",
        "\n",
        "            "
      ],
      "metadata": {
        "colab": {
          "base_uri": "https://localhost:8080/"
        },
        "id": "SsACSngXh5FU",
        "outputId": "61381ce2-36d3-4f74-9551-5cf3f4104df0"
      },
      "execution_count": null,
      "outputs": [
        {
          "output_type": "stream",
          "name": "stdout",
          "text": [
            "Its trunk was bent, and it had twisted branches. The other trees laughed and made fun of this tree by calling it hunchback. This made the tree very sad, and whenever it looked at the other trees, it sighed, 'I wish I were like the other beautiful trees. God has been so cruel to me!. \n",
            "\n",
            "This made the tree very sad, and whenever it looked at the other trees, it sighed, 'I wish I were like the other beautiful trees.\n"
          ]
        }
      ]
    },
    {
      "cell_type": "code",
      "source": [
        "print(word_frequencies)"
      ],
      "metadata": {
        "colab": {
          "base_uri": "https://localhost:8080/"
        },
        "id": "dgxbjjMdeh-u",
        "outputId": "a65619f0-ba69-445e-b8bc-dfe7bb4fb17d"
      },
      "execution_count": null,
      "outputs": [
        {
          "output_type": "stream",
          "name": "stdout",
          "text": [
            "{'year': 0.0625, 'thousands': 0.0625, 'people': 0.125, 'United': 0.1875, 'States': 0.1875, 'choose': 0.125, 'spend': 0.125, 'vacations': 0.0625, 'camping': 1.0, 'great': 0.0625, 'outdoors': 0.0625, 'Depending': 0.0625, 'individual': 0.0625, 'sense': 0.0625, 'adventure': 0.0625, 'types': 0.125, 'including': 0.0625, 'log': 0.0625, 'cabin': 0.0625, 'recreational': 0.0625, 'vehicle': 0.0625, 'tent': 1.0, 'involves': 0.0625, 'roughing': 0.0625, 'proper': 0.0625, 'planning': 0.125, 'experience': 0.1875, 'gratifying': 0.0625, 'best': 0.0625, 'extremely': 0.0625, 'frustrating': 0.125, 'uncontrolled': 0.0625, 'factors': 0.0625, 'bad': 0.3125, 'weather': 0.4375, 'wildlife': 0.25, 'encounters': 0.125, 'equipment': 0.1875, 'failures': 0.25, 'dampen': 0.0625, 'excited': 0.0625, 'anticipation': 0.0625, 'dark': 0.0625, 'rainy': 0.0625, 'day': 0.0625, 'adventurous': 0.0625, 'campers': 0.5, 'lose': 0.0625, 'enthusiasm': 0.0625, 'drive': 0.125, 'campsite': 0.125, 'skies': 0.0625, 'dreary': 0.0625, 'damp': 0.0625, 'reaching': 0.0625, 'destination': 0.0625, 'set': 0.1875, 'camp': 0.125, 'downpour': 0.1875, 'includes': 0.0625, 'keeping': 0.125, 'inside': 0.25, 'dry': 0.0625, 'free': 0.125, 'mud': 0.0625, 'getting': 0.0625, 'sleeping': 0.5, 'bags': 0.25, 'situated': 0.0625, 'dryly': 0.0625, 'protecting': 0.0625, 'food': 0.3125, 'happen': 0.0625, 'wet': 0.125, 'cold': 0.0625, 'major': 0.0625, 'factor': 0.0625, 'bag': 0.25, 'usually': 0.125, 'provides': 0.125, 'warmth': 0.0625, 'trip': 0.125, 'Combining': 0.0625, 'wind': 0.125, 'rain': 0.1875, 'cause': 0.125, 'frigid': 0.0625, 'temperatures': 0.0625, 'causing': 0.0625, 'outside': 0.0625, 'activities': 0.0625, 'delayed': 0.0625, 'problems': 0.0625, 'arise': 0.0625, 'heavy': 0.0625, 'winds': 0.0625, 'tents': 0.125, 'blown': 0.0625, 'begins': 0.0625, 'task': 0.0625, 'setting': 0.0625, 'wise': 0.0625, 'check': 0.0625, 'forecast': 0.0625, 'embarking': 0.0625, 'trips': 0.0625, 'mother': 0.0625, 'nature': 0.0625, 'unpredictable': 0.0625, 'guarantee': 0.0625, 'eluded': 0.0625, 'problem': 0.125, 'likely': 0.125, 'faced': 0.0625, 'run': 0.0625, 'ins': 0.125, 'range': 0.125, 'mildly': 0.0625, 'annoying': 0.125, 'dangerous': 0.1875, 'Minor': 0.0625, 'inconveniences': 0.0625, 'include': 0.0625, 'mosquitoes': 0.125, 'ants': 0.125, 'swarming': 0.125, 'literally': 0.0625, 'annoyed': 0.0625, 'indoors': 0.0625, 'effective': 0.0625, 'repellant': 0.125, 'camper': 0.25, 'interminable': 0.0625, 'night': 0.25, 'scratching': 0.0625, 'worsen': 0.0625, 'itch': 0.0625, 'Ants': 0.0625, 'attack': 0.0625, 'inconvenience': 0.0625, 'Extreme': 0.0625, 'care': 0.0625, 'taken': 0.0625, 'leave': 0.0625, 'meals': 0.0625, 'stored': 0.0625, 'left': 0.125, 'open': 0.125, 'addition': 0.0625, 'crawl': 0.0625, 'clothing': 0.125, 'insects': 0.0625, 'minor': 0.0625, 'discomfort': 0.0625, 'potentially': 0.0625, 'poisonous': 0.0625, 'snakes': 0.0625, 'water': 0.0625, 'moccasin': 0.0625, 'diamond': 0.0625, 'rattlesnake': 0.0625, 'hiking': 0.0625, 'woods': 0.0625, 'careful': 0.0625, 'steps': 0.0625, 'Snakes': 0.0625, 'searching': 0.0625, 'shade': 0.0625, 'sun': 0.0625, 'shelter': 0.0625, 'enter': 0.0625, 'encounter': 0.125, 'unwary': 0.0625, 'surprised': 0.0625, 'snake': 0.0625, 'prove': 0.0625, 'fatal': 0.0625, 'Run': 0.0625, 'unpleasant': 0.0625, 'realize': 0.125, 'inevitable': 0.0625, 'troubles': 0.1875, 'plague': 0.0625, 'families': 0.0625, 'time': 0.0625, 'arrive': 0.0625, 'haphazardly': 0.0625, 'person': 0.0625, 'settle': 0.0625, 'peaceful': 0.125, 'rest': 0.0625, 'family': 0.1875, 'awakened': 0.0625, 'huge': 0.0625, 'crash': 0.0625, 'fallen': 0.0625, 'Sleepily': 0.0625, 'awake': 0.0625, 'proceed': 0.0625, 'morning': 0.0625, 'emerges': 0.0625, 'zippers': 0.0625, 'gotten': 0.0625, 'caught': 0.0625, 'Finally': 0.0625, 'minutes': 0.0625, 'struggling': 0.0625, 'member': 0.0625, 'touching': 0.0625, 'sides': 0.125, 'waterproof': 0.0625, 'touched': 0.0625, 'drenched': 0.0625, 'Totally': 0.0625, 'disillusioned': 0.0625, 'vacation': 0.125, 'frustrated': 0.125, 'packs': 0.0625, 'immediately': 0.0625, 'drives': 0.0625, 'home': 0.0625, 'Equipment': 0.0625, 'pests': 0.0625, 'wild': 0.0625, 'animals': 0.0625, 'end': 0.0625, 'remaining': 0.0625, 'hope': 0.0625, 'strike': 0.0625, 'brilliant': 0.0625, 'scientist': 0.0625, 'invents': 0.0625, 'machine': 0.0625, 'control': 0.0625, 'kind': 0.0625, 'unlucky': 0.0625, 'continue': 0.125, 'shake': 0.0625, 'fists': 0.0625, 'frustration': 0.0625, 'malfunction': 0.0625, 'continues': 0.0625, 'favorite': 0.0625, 'pastime': 0.0625, 'want': 0.0625, 'happy': 0.0625, 'learn': 0.0625, 'laugh': 0.0625, 'leaky': 0.0625, 'bugs': 0.0625, 'find': 0.0625, 'unhappy': 0.0625}\n"
          ]
        }
      ]
    }
  ]
}